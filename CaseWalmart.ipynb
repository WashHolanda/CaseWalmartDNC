{
 "cells": [
  {
   "attachments": {},
   "cell_type": "markdown",
   "metadata": {},
   "source": [
    "# <center> Mini Projeto - Walmart </center>\n",
    "\n",
    "---"
   ]
  },
  {
   "attachments": {},
   "cell_type": "markdown",
   "metadata": {},
   "source": [
    "## O que será feito?\n",
    "Em um cenário onde a empresa Walmart precisa fazer um levantamento do faturamento das lojas nos USA e apontar qual loja seria melhor para **expandir seu tamanho** será montado um Notebook bem redigido mostrando o passo a passo das etapas de análise do case, fazendo uma introdução e dados atuais sobre o problema. Também será ressaltado/explicado passagens complexas ou insights que você tiver durante a resolução desse projeto."
   ]
  },
  {
   "attachments": {},
   "cell_type": "markdown",
   "metadata": {},
   "source": [
    "## Descrição do Projeto\n",
    "O Projeto de deverá ser desenvolvido em 3 etapas do CRISP-DM, que são o Business Understanding, Data Understanding e Data Preparation\n",
    "\n",
    "**Business Understanding:** Nessa etapa o principal objetivo será compreender os requisitos do projeto. Para isso precisamos responder 3 tasks principais:\n",
    "- Determinar os objetivos de negócio\n",
    "- Fazer a avaliação da situação\n",
    "- Determinar os objetivos e metas para a mineração de dados\n",
    "\n",
    "**Data Understanding:** Nessa etapa o principal objetivo será compreender os dados que o projeto possui. Para isso precisamos responder 3 tasks principais:\n",
    "- Coleta Inicial dos dados\n",
    "- Descrição dos dados\n",
    "- Exploração dos dados\n",
    "\n",
    "**Data Preparation**\n",
    "- Seleção dos dados\n",
    "- Limpeza dos dados\n",
    "- Responder às questões de output de projeto"
   ]
  },
  {
   "attachments": {},
   "cell_type": "markdown",
   "metadata": {},
   "source": [
    "## Output do Projeto\n",
    "\n",
    "Ao final da análise, serão respondidas as 5 seguintes questões:\n",
    "\n",
    "1. Qual o preço médio de vendas semanal por loja?\n",
    "2. Qual o atributo que tem maior correlação (positiva ou negativa) com o número de vendas?\n",
    "3. Da loja com maior venda acumulada (soma de vendas de todo o período), quantas semanas do \n",
    "ano ele ultrapassou a média do período?\n",
    "4. Faça um gráfico com as vendas máximas, mínimas e médias de todas as lojas ao longo do \n",
    "tempo. Ressalte de alguma forma, o período de feriados mencionados acima\n",
    "5. Pensando na expansão de uma das lojas, que loja você escolheria e o porque\n",
    "\n",
    "---"
   ]
  },
  {
   "attachments": {},
   "cell_type": "markdown",
   "metadata": {},
   "source": [
    "# 1.**Business Understanding**\n",
    "\n",
    "## Walmart Inc.\n",
    "Walmart, Inc., é uma multinacional estadunidense de lojas de departamento. A companhia foi fundada por Sam Walton em 1962, incorporada em 31 de outubro de 1969 e feita capital aberto na New York Stock Exchange, em 1972. No ano de 2021, obteve um um lucro de $13.51 Bilhões. Sendo uma das principais lojas de varejo do mundo, os dados contemplam as vendas semanais de 45 lojas espalhadas pelos Estados Unidos. O Walmart realiza vários eventos promocionais de descontos ao longo do ano. Essas remarcações precedem feriados importantes, os quatro maiores de todos, que são o Super Bowl, o Dia do Trabalho, o Dia de Ação de Graças e o Natal. As semanas que incluem esses feriados têm um peso maior.\n",
    "\n",
    "### Determinando os objetivos de negócio\n",
    "A empresa precisa fazer um levantamento do faturamento das lojas nos USA e apontar qual loja seria melhor para \n",
    "**expandir seu tamanho,** dado que as vendas de uma determinada loja são afetadas por algumas variáveis em cada loja como temperatura, preço do combustível na região, CPI, desemprego.\n",
    "\n",
    "### Avaliação da Situação\n",
    "Dataset: https://www.kaggle.com/yasserh/walmart-dataset\n",
    "\n",
    "Os dados apresentam as vendas semanais de 05/02/10 até 01/11/12 em 45 lojas varejistas da rede Walmart e também algumas métricas econômicas e meteorológicas por semana. A descrição destas características estão abaixo:\n",
    "\n",
    "- Lista dos 4 maiores feriados americanos\n",
    "\n",
    "   | Holiday Events | Semanas |\n",
    "   | --- | --- |\n",
    "   | Super Bowl | 12-Feb-10, 11-Feb-11, 10-Feb-12 |\n",
    "   | Labour Day | 10-Sep-10, 09-Sep-11, 07-Sep-12 |\n",
    "   | Thanksgiving | 26-Nov-10, 25-Nov-11, 23-Nov-12 |\n",
    "   | Christmas | 31-Dec-10, 30-Dec-11, 28-Dec-12 |\n",
    "<br></br>\n",
    "- Descrição de cada coluna das tabelas da base\n",
    "\n",
    "   | Variável | Descrição |\n",
    "   | --- | --- |\n",
    "   | Store | Número de Lojas |\n",
    "   | Date | Semana de Venda |\n",
    "   | Weekly_Sales | Venda naquela semana |\n",
    "   | Holiday_Flag | Flag se é ou não semana com feriado (1 - Holiday Week 0 - Non-Holiday Week) |\n",
    "   | Temperature | Temperatura do dia em ºF |\n",
    "   | Fuel_Price | Preço do combustível na região da Loja |\n",
    "   | CPI | Índice de preços ao consumidor |\n",
    "   | Unemployment | Taxa de desemprego |\n",
    "<br></br>\n",
    "Para que sejam feitos todos os tratamentos e limpezas necessárias será utilizada a linguagem Python e os recursos disponíveis nas bibliotecas Pandas e Numpy, podendo ser feito uso de outras bibliotecas de dados conforme a necessidade. Além disso, para fins mais ilustrativos poderá ser usado o software Power BI para a confecção de um painel ilustrativo com todos os insights criados.\n",
    "\n",
    "### Objetivos e Metas para a Mineração de Dados\n"
   ]
  },
  {
   "attachments": {},
   "cell_type": "markdown",
   "metadata": {},
   "source": [
    "# 2.**Data Understanding**\n",
    "\n",
    "### Coleta Inicial dos dados\n",
    "\n",
    "A coleta da base de dados será feita a partir do arquivo do tipo CSV disponibilizado, utilizando a biblioteca Pandas do Python. Abaixo segue um o código utilizado para carregar a base de dados através da função read_csv, assim como um print da base para visualização e confirmação do seu formato inicial."
   ]
  },
  {
   "cell_type": "code",
   "execution_count": 7,
   "metadata": {},
   "outputs": [
    {
     "name": "stdout",
     "output_type": "stream",
     "text": [
      "      Store        Date  Weekly_Sales  Holiday_Flag  Temperature  Fuel_Price  \\\n",
      "0         1  05-02-2010    1643690.90             0        42.31       2.572   \n",
      "1         1  12-02-2010    1641957.44             1        38.51       2.548   \n",
      "2         1  19-02-2010    1611968.17             0        39.93       2.514   \n",
      "3         1  26-02-2010    1409727.59             0        46.63       2.561   \n",
      "4         1  05-03-2010    1554806.68             0        46.50       2.625   \n",
      "...     ...         ...           ...           ...          ...         ...   \n",
      "6430     45  28-09-2012     713173.95             0        64.88       3.997   \n",
      "6431     45  05-10-2012     733455.07             0        64.89       3.985   \n",
      "6432     45  12-10-2012     734464.36             0        54.47       4.000   \n",
      "6433     45  19-10-2012     718125.53             0        56.47       3.969   \n",
      "6434     45  26-10-2012     760281.43             0        58.85       3.882   \n",
      "\n",
      "             CPI  Unemployment  \n",
      "0     211.096358         8.106  \n",
      "1     211.242170         8.106  \n",
      "2     211.289143         8.106  \n",
      "3     211.319643         8.106  \n",
      "4     211.350143         8.106  \n",
      "...          ...           ...  \n",
      "6430  192.013558         8.684  \n",
      "6431  192.170412         8.667  \n",
      "6432  192.327265         8.667  \n",
      "6433  192.330854         8.667  \n",
      "6434  192.308899         8.667  \n",
      "\n",
      "[6435 rows x 8 columns]\n"
     ]
    }
   ],
   "source": [
    "import pandas as pd\n",
    "\n",
    "base = pd.read_csv('Walmart.csv')\n",
    "\n",
    "print(base)"
   ]
  },
  {
   "attachments": {},
   "cell_type": "markdown",
   "metadata": {},
   "source": [
    "### Descrição dos dados\n",
    "\n",
    "### Exploração dos dados"
   ]
  }
 ],
 "metadata": {
  "kernelspec": {
   "display_name": "base",
   "language": "python",
   "name": "python3"
  },
  "language_info": {
   "codemirror_mode": {
    "name": "ipython",
    "version": 3
   },
   "file_extension": ".py",
   "mimetype": "text/x-python",
   "name": "python",
   "nbconvert_exporter": "python",
   "pygments_lexer": "ipython3",
   "version": "3.9.13"
  },
  "orig_nbformat": 4
 },
 "nbformat": 4,
 "nbformat_minor": 2
}
