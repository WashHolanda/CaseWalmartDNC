{
 "cells": [
  {
   "attachments": {},
   "cell_type": "markdown",
   "metadata": {},
   "source": [
    "# <center> Mini Projeto - Walmart </center>\n",
    "\n",
    "---"
   ]
  },
  {
   "attachments": {},
   "cell_type": "markdown",
   "metadata": {},
   "source": [
    "## O que será feito?\n",
    "Em um cenário onde a empresa Walmart precisa fazer um levantamento do faturamento das lojas nos USA e apontar qual loja seria melhor para **expandir seu tamanho** será montado um Notebook bem redigido mostrando o passo a passo das etapas de análise do case, fazendo uma introdução e dados atuais sobre o problema. Também será ressaltado/explicado passagens complexas ou insights que você tiver durante a resolução desse projeto."
   ]
  },
  {
   "attachments": {},
   "cell_type": "markdown",
   "metadata": {},
   "source": [
    "## Descrição do Projeto\n",
    "O Projeto de deverá ser desenvolvido em 3 etapas do CRISP-DM, que são o Business Understanding, Data Understanding e Data Preparation\n",
    "\n",
    "**Business Understanding:** Nessa etapa o principal objetivo será compreender os requisitos do projeto. Para isso precisamos responder 3 tasks principais:\n",
    "- Determinar os objetivos de negócio\n",
    "- Fazer a avaliação da situação\n",
    "- Determinar os objetivos e metas para a mineração de dados\n",
    "\n",
    "**Data Understanding:** Nessa etapa o principal objetivo será compreender os dados que o projeto possui. Para isso precisamos responder 3 tasks principais:\n",
    "- Coleta Inicial dos dados\n",
    "- Descrição dos dados\n",
    "- Exploração dos dados\n",
    "\n",
    "**Data Preparation**\n",
    "- Seleção dos dados\n",
    "- Limpeza dos dados\n",
    "- Responder às questões de output de projeto"
   ]
  },
  {
   "attachments": {},
   "cell_type": "markdown",
   "metadata": {},
   "source": [
    "## Output do Projeto\n",
    "\n",
    "Ao final da análise, serão respondidas as 5 seguintes questões:\n",
    "\n",
    "1. Qual o preço médio de vendas semanal por loja?\n",
    "2. Qual o atributo que tem maior correlação (positiva ou negativa) com o número de vendas?\n",
    "3. Da loja com maior venda acumulada (soma de vendas de todo o período), quantas semanas do \n",
    "ano ele ultrapassou a média do período?\n",
    "4. Faça um gráfico com as vendas máximas, mínimas e médias de todas as lojas ao longo do \n",
    "tempo. Ressalte de alguma forma, o período de feriados mencionados acima\n",
    "5. Pensando na expansão de uma das lojas, que loja você escolheria e o porque\n",
    "\n",
    "---"
   ]
  },
  {
   "attachments": {},
   "cell_type": "markdown",
   "metadata": {},
   "source": [
    "# 1.**Business Understanding**\n",
    "\n",
    "## Walmart Inc.\n",
    "Walmart, Inc., é uma multinacional estadunidense de lojas de departamento. A companhia foi fundada por Sam Walton em 1962, incorporada em 31 de outubro de 1969 e feita capital aberto na New York Stock Exchange, em 1972. No ano de 2021, obteve um um lucro de $13.51 Bilhões. Sendo uma das principais lojas de varejo do mundo, os dados contemplam as vendas semanais de 45 lojas espalhadas pelos Estados Unidos. O Walmart realiza vários eventos promocionais de descontos ao longo do ano. Essas remarcações precedem feriados importantes, os quatro maiores de todos, que são o Super Bowl, o Dia do Trabalho, o Dia de Ação de Graças e o Natal. As semanas que incluem esses feriados têm um peso maior.\n",
    "\n",
    "### Determinando os objetivos de negócio\n",
    "A empresa precisa fazer um levantamento do faturamento das lojas nos USA e apontar qual loja seria melhor para \n",
    "**expandir seu tamanho,** dado que as vendas de uma determinada loja são afetadas por algumas variáveis em cada loja como temperatura, preço do combustível na região, CPI, desemprego.\n",
    "\n",
    "### Avaliação da Situação\n",
    "Dataset: https://www.kaggle.com/yasserh/walmart-dataset\n",
    "\n",
    "Os dados apresentam as vendas semanais de 05/02/10 até 01/11/12 em 45 lojas varejistas da rede Walmart e também algumas métricas econômicas e meteorológicas por semana. A descrição destas características estão abaixo:\n",
    "\n",
    "- Lista dos 4 maiores feriados americanos\n",
    "\n",
    "   | Holiday Events | Semanas |\n",
    "   | --- | --- |\n",
    "   | Super Bowl | 12-Feb-10, 11-Feb-11, 10-Feb-12 |\n",
    "   | Labour Day | 10-Sep-10, 09-Sep-11, 07-Sep-12 |\n",
    "   | Thanksgiving | 26-Nov-10, 25-Nov-11, 23-Nov-12 |\n",
    "   | Christmas | 31-Dec-10, 30-Dec-11, 28-Dec-12 |\n",
    "<br></br>\n",
    "- Descrição de cada coluna das tabelas da base\n",
    "\n",
    "   | Variável | Descrição |\n",
    "   | --- | --- |\n",
    "   | Store | Número de Lojas |\n",
    "   | Date | Semana de Venda |\n",
    "   | Weekly_Sales | Venda naquela semana |\n",
    "   | Holiday_Flag | Flag se é ou não semana com feriado (1 - Holiday Week 0 - Non-Holiday Week) |\n",
    "   | Temperature | Temperatura do dia em ºF |\n",
    "   | Fuel_Price | Preço do combustível na região da Loja |\n",
    "   | CPI | Índice de preços ao consumidor |\n",
    "   | Unemployment | Taxa de desemprego |\n",
    "<br></br>\n",
    "Para que sejam feitos todos os tratamentos e limpezas necessárias será utilizada a linguagem Python e os recursos disponíveis nas bibliotecas Pandas e Seaborn, podendo ser feito uso de outras bibliotecas de dados conforme a necessidade. Além disso, para fins mais ilustrativos poderá ser usado o software Power BI para a confecção de um painel ilustrativo com todos os insights criados.\n",
    "\n",
    "### Objetivos e Metas para a Mineração de Dados\n"
   ]
  },
  {
   "attachments": {},
   "cell_type": "markdown",
   "metadata": {},
   "source": [
    "# 2.**Data Understanding**\n",
    "\n",
    "### Coleta Inicial dos dados\n",
    "\n",
    "A coleta da base de dados será feita a partir do arquivo do tipo CSV disponibilizado, utilizando a biblioteca Pandas do Python. Os dados tem origem nessa única fonte, facilitando a coleta e análise dos mesmos. Abaixo segue um o código utilizado para carregar a base de dados através da função read_csv, assim como um print da base para visualização e confirmação do seu formato inicial."
   ]
  },
  {
   "cell_type": "code",
   "execution_count": 49,
   "metadata": {},
   "outputs": [
    {
     "name": "stdout",
     "output_type": "stream",
     "text": [
      "      Store        Date  Weekly_Sales  Holiday_Flag  Temperature  Fuel_Price  \\\n",
      "0         1  05-02-2010    1643690.90             0        42.31        2.57   \n",
      "1         1  12-02-2010    1641957.44             1        38.51        2.55   \n",
      "2         1  19-02-2010    1611968.17             0        39.93        2.51   \n",
      "3         1  26-02-2010    1409727.59             0        46.63        2.56   \n",
      "4         1  05-03-2010    1554806.68             0        46.50        2.62   \n",
      "...     ...         ...           ...           ...          ...         ...   \n",
      "6430     45  28-09-2012     713173.95             0        64.88        4.00   \n",
      "6431     45  05-10-2012     733455.07             0        64.89        3.98   \n",
      "6432     45  12-10-2012     734464.36             0        54.47        4.00   \n",
      "6433     45  19-10-2012     718125.53             0        56.47        3.97   \n",
      "6434     45  26-10-2012     760281.43             0        58.85        3.88   \n",
      "\n",
      "        CPI  Unemployment  \n",
      "0    211.10          8.11  \n",
      "1    211.24          8.11  \n",
      "2    211.29          8.11  \n",
      "3    211.32          8.11  \n",
      "4    211.35          8.11  \n",
      "...     ...           ...  \n",
      "6430 192.01          8.68  \n",
      "6431 192.17          8.67  \n",
      "6432 192.33          8.67  \n",
      "6433 192.33          8.67  \n",
      "6434 192.31          8.67  \n",
      "\n",
      "[6435 rows x 8 columns]\n"
     ]
    }
   ],
   "source": [
    "import pandas as pd\n",
    "\n",
    "pd.options.display.float_format = '{:.2f}'.format # valores da base de dados sendo mostrados apenas com 2 casas decimais.\n",
    "\n",
    "df = pd.read_csv('Walmart.csv')\n",
    "\n",
    "print(df)"
   ]
  },
  {
   "attachments": {},
   "cell_type": "markdown",
   "metadata": {},
   "source": [
    "### Descrição dos dados\n",
    "\n",
    "Antes de iniciar as transformações e análises necessárias na base precisamos entender mais sobre as principais características da base de dados, como por exemplo: nº de linhas, nº de colunas, tipos de dados de cada coluna, se existe algum valor nulo dentro da base e etc. Essas informações podem ser obtidas de maneira rápida utilizando a função info() da biblioteca Pandas, como mostrado abaixo."
   ]
  },
  {
   "cell_type": "code",
   "execution_count": 50,
   "metadata": {},
   "outputs": [
    {
     "name": "stdout",
     "output_type": "stream",
     "text": [
      "<class 'pandas.core.frame.DataFrame'>\n",
      "RangeIndex: 6435 entries, 0 to 6434\n",
      "Data columns (total 8 columns):\n",
      " #   Column        Non-Null Count  Dtype  \n",
      "---  ------        --------------  -----  \n",
      " 0   Store         6435 non-null   int64  \n",
      " 1   Date          6435 non-null   object \n",
      " 2   Weekly_Sales  6435 non-null   float64\n",
      " 3   Holiday_Flag  6435 non-null   int64  \n",
      " 4   Temperature   6435 non-null   float64\n",
      " 5   Fuel_Price    6435 non-null   float64\n",
      " 6   CPI           6435 non-null   float64\n",
      " 7   Unemployment  6435 non-null   float64\n",
      "dtypes: float64(5), int64(2), object(1)\n",
      "memory usage: 402.3+ KB\n"
     ]
    }
   ],
   "source": [
    "df.info()"
   ]
  },
  {
   "attachments": {},
   "cell_type": "markdown",
   "metadata": {},
   "source": [
    "Além disso, é importante sabermos também se há valores duplicados na base de dados, sendo assim, usaremos a função duplicated() para obtermos uma Serie contendo valores de True caso o dado seja duplicado e False para o contrário. Tendo essa Serie em mãos, podemos utilizar a função sum() para obtermos a quantidade de valores True, ou seja duplicados, que temos na base de dados."
   ]
  },
  {
   "cell_type": "code",
   "execution_count": 51,
   "metadata": {},
   "outputs": [
    {
     "data": {
      "text/plain": [
       "0"
      ]
     },
     "execution_count": 51,
     "metadata": {},
     "output_type": "execute_result"
    }
   ],
   "source": [
    "df.duplicated().sum()"
   ]
  },
  {
   "attachments": {},
   "cell_type": "markdown",
   "metadata": {},
   "source": [
    "### Exploração dos dados\n",
    "\n",
    "Para dar início a exploração dos dados da base, a função describe() também foi utilizada para obtermos informações estatísticas básicas (soma, média, desvio padrão, mínimo, quartis e máximo) das colunas do DataFrame, no caso da base utilizada filtramos ainda para que a função faça os calculos apenas das colunas quantitativas (Weekly_Sales, Temperature, Fuel_Price, CPI e Unemployment), visto que há colunas na base que são de caráter qualitativo (Store, Date e Holiday_Flag) e que não fazem sentido terem essas informações calculadas."
   ]
  },
  {
   "cell_type": "code",
   "execution_count": 52,
   "metadata": {},
   "outputs": [
    {
     "data": {
      "text/html": [
       "<div>\n",
       "<style scoped>\n",
       "    .dataframe tbody tr th:only-of-type {\n",
       "        vertical-align: middle;\n",
       "    }\n",
       "\n",
       "    .dataframe tbody tr th {\n",
       "        vertical-align: top;\n",
       "    }\n",
       "\n",
       "    .dataframe thead th {\n",
       "        text-align: right;\n",
       "    }\n",
       "</style>\n",
       "<table border=\"1\" class=\"dataframe\">\n",
       "  <thead>\n",
       "    <tr style=\"text-align: right;\">\n",
       "      <th></th>\n",
       "      <th>Weekly_Sales</th>\n",
       "      <th>Temperature</th>\n",
       "      <th>Fuel_Price</th>\n",
       "      <th>CPI</th>\n",
       "      <th>Unemployment</th>\n",
       "    </tr>\n",
       "  </thead>\n",
       "  <tbody>\n",
       "    <tr>\n",
       "      <th>count</th>\n",
       "      <td>6435.00</td>\n",
       "      <td>6435.00</td>\n",
       "      <td>6435.00</td>\n",
       "      <td>6435.00</td>\n",
       "      <td>6435.00</td>\n",
       "    </tr>\n",
       "    <tr>\n",
       "      <th>mean</th>\n",
       "      <td>1046964.88</td>\n",
       "      <td>60.66</td>\n",
       "      <td>3.36</td>\n",
       "      <td>171.58</td>\n",
       "      <td>8.00</td>\n",
       "    </tr>\n",
       "    <tr>\n",
       "      <th>std</th>\n",
       "      <td>564366.62</td>\n",
       "      <td>18.44</td>\n",
       "      <td>0.46</td>\n",
       "      <td>39.36</td>\n",
       "      <td>1.88</td>\n",
       "    </tr>\n",
       "    <tr>\n",
       "      <th>min</th>\n",
       "      <td>209986.25</td>\n",
       "      <td>-2.06</td>\n",
       "      <td>2.47</td>\n",
       "      <td>126.06</td>\n",
       "      <td>3.88</td>\n",
       "    </tr>\n",
       "    <tr>\n",
       "      <th>25%</th>\n",
       "      <td>553350.10</td>\n",
       "      <td>47.46</td>\n",
       "      <td>2.93</td>\n",
       "      <td>131.74</td>\n",
       "      <td>6.89</td>\n",
       "    </tr>\n",
       "    <tr>\n",
       "      <th>50%</th>\n",
       "      <td>960746.04</td>\n",
       "      <td>62.67</td>\n",
       "      <td>3.44</td>\n",
       "      <td>182.62</td>\n",
       "      <td>7.87</td>\n",
       "    </tr>\n",
       "    <tr>\n",
       "      <th>75%</th>\n",
       "      <td>1420158.66</td>\n",
       "      <td>74.94</td>\n",
       "      <td>3.73</td>\n",
       "      <td>212.74</td>\n",
       "      <td>8.62</td>\n",
       "    </tr>\n",
       "    <tr>\n",
       "      <th>max</th>\n",
       "      <td>3818686.45</td>\n",
       "      <td>100.14</td>\n",
       "      <td>4.47</td>\n",
       "      <td>227.23</td>\n",
       "      <td>14.31</td>\n",
       "    </tr>\n",
       "  </tbody>\n",
       "</table>\n",
       "</div>"
      ],
      "text/plain": [
       "       Weekly_Sales  Temperature  Fuel_Price     CPI  Unemployment\n",
       "count       6435.00      6435.00     6435.00 6435.00       6435.00\n",
       "mean     1046964.88        60.66        3.36  171.58          8.00\n",
       "std       564366.62        18.44        0.46   39.36          1.88\n",
       "min       209986.25        -2.06        2.47  126.06          3.88\n",
       "25%       553350.10        47.46        2.93  131.74          6.89\n",
       "50%       960746.04        62.67        3.44  182.62          7.87\n",
       "75%      1420158.66        74.94        3.73  212.74          8.62\n",
       "max      3818686.45       100.14        4.47  227.23         14.31"
      ]
     },
     "execution_count": 52,
     "metadata": {},
     "output_type": "execute_result"
    }
   ],
   "source": [
    "df[['Weekly_Sales', 'Temperature', 'Fuel_Price', 'CPI', 'Unemployment']].describe()"
   ]
  },
  {
   "attachments": {},
   "cell_type": "markdown",
   "metadata": {},
   "source": [
    "### 1. Qual o preço médio de vendas semanal por loja?\n",
    "\n",
    "Para responder essa pergunta primeiro precisaremos agrupar as vendas de cada loja (Store) calculando sua média de vendas semanal de cada uma. No código abaixo é apresentado esse agrupamento com a utilização da função groupby() sendo a coluna Store a nossa categoria e mean() a nossa função de agregação. O resultado disso é apresentado na Serie abaixo:"
   ]
  },
  {
   "cell_type": "code",
   "execution_count": 53,
   "metadata": {},
   "outputs": [
    {
     "name": "stdout",
     "output_type": "stream",
     "text": [
      "Store\n",
      "1    1555264.40\n",
      "2    1925751.34\n",
      "3     402704.44\n",
      "4    2094712.96\n",
      "5     318011.81\n",
      "6    1564728.19\n",
      "7     570617.31\n",
      "8     908749.52\n",
      "9     543980.55\n",
      "10   1899424.57\n",
      "11   1356383.12\n",
      "12   1009001.61\n",
      "13   2003620.31\n",
      "14   2020978.40\n",
      "15    623312.47\n",
      "16    519247.73\n",
      "17    893581.39\n",
      "18   1084718.42\n",
      "19   1444999.04\n",
      "20   2107676.87\n",
      "21    756069.08\n",
      "22   1028501.04\n",
      "23   1389864.46\n",
      "24   1356755.39\n",
      "25    706721.53\n",
      "26   1002911.84\n",
      "27   1775216.20\n",
      "28   1323522.24\n",
      "29    539451.43\n",
      "30    438579.62\n",
      "31   1395901.44\n",
      "32   1166568.15\n",
      "33    259861.69\n",
      "34    966781.56\n",
      "35    919724.98\n",
      "36    373511.99\n",
      "37    518900.28\n",
      "38    385731.65\n",
      "39   1450668.13\n",
      "40    964128.04\n",
      "41   1268125.42\n",
      "42    556403.86\n",
      "43    633324.72\n",
      "44    302748.87\n",
      "45    785981.41\n",
      "Name: Weekly_Sales, dtype: float64\n"
     ]
    }
   ],
   "source": [
    "# É REALMENTE NECESSÁRIA ESSA ORDENAÇÃO?\n",
    "#df['Date'] = pd.to_datetime(df['Date']) #Converte coluna Date para o tipo Datetime\n",
    "#df = df.sort_values(by='Date') #Ordena os dados utilizando \n",
    "\n",
    "avg_sales = df.groupby('Store')['Weekly_Sales'].mean()\n",
    "print(avg_sales)"
   ]
  },
  {
   "attachments": {},
   "cell_type": "markdown",
   "metadata": {},
   "source": [
    "Utilizando esse resultado podemos utilizar as bibliotecas Matplotlib e Seaborn para visualizar os resultados de cada loja na forma de um gráfico de barras verticais. "
   ]
  },
  {
   "cell_type": "code",
   "execution_count": 54,
   "metadata": {},
   "outputs": [
    {
     "data": {
      "image/png": "[encoded data removed]",
      "text/plain": [
       "<Figure size 1000x600 with 1 Axes>"
      ]
     },
     "metadata": {},
     "output_type": "display_data"
    }
   ],
   "source": [
    "import matplotlib.pyplot as plt\n",
    "import seaborn as sns\n",
    "\n",
    "sns.set_style('darkgrid')\n",
    "\n",
    "plt.figure(figsize=(10, 6))\n",
    "sns.barplot(x=avg_sales.index, y=avg_sales, color='blue')\n",
    "plt.title('Average Weekly Sales by Store')\n",
    "plt.xlabel('Store')\n",
    "plt.ylabel('Average Weekly Sales')\n",
    "plt.ticklabel_format(style='plain', axis='y')\n",
    "plt.show()"
   ]
  },
  {
   "attachments": {},
   "cell_type": "markdown",
   "metadata": {},
   "source": [
    "### 2. Qual o atributo que tem maior correlação (positiva ou negativa) com o número de vendas?"
   ]
  }
 ],
 "metadata": {
  "kernelspec": {
   "display_name": "base",
   "language": "python",
   "name": "python3"
  },
  "language_info": {
   "codemirror_mode": {
    "name": "ipython",
    "version": 3
   },
   "file_extension": ".py",
   "mimetype": "text/x-python",
   "name": "python",
   "nbconvert_exporter": "python",
   "pygments_lexer": "ipython3",
   "version": "3.9.13"
  },
  "orig_nbformat": 4
 },
 "nbformat": 4,
 "nbformat_minor": 2
}
